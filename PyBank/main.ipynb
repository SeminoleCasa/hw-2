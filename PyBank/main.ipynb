{
 "cells": [
  {
   "cell_type": "code",
   "execution_count": 14,
   "metadata": {},
   "outputs": [
    {
     "name": "stdout",
     "output_type": "stream",
     "text": [
      "['Date', 'Profit/Losses']\n",
      "number_of_months\n",
      "86\n"
     ]
    }
   ],
   "source": [
    "# Import libraries\n",
    "import csv\n",
    "from pathlib import Path\n",
    "\n",
    "# Name of the file (cannot access data)\n",
    "filename = Path('Resources/budget_data.csv')\n",
    "\n",
    "# Initialize variables\n",
    "number_of_months = 0\n",
    "\n",
    "# Open file\n",
    "with open(filename, 'r') as file:\n",
    "\n",
    "    # Read header\n",
    "    filereader = csv.reader(file, delimiter=',')\n",
    "    header = next(filereader)\n",
    "    print(header)\n",
    "    \n",
    "    for row in filereader:\n",
    "        \n",
    "        month = row[0]\n",
    "        monthly_profit = int(row[1])\n",
    "        \n",
    "        number_of_months = number_of_months + 1\n",
    "        \n",
    "        \n",
    "print(\"number_of_months\")\n",
    "print(number_of_months)+"
   ]
  },
  {
   "cell_type": "code",
   "execution_count": null,
   "metadata": {},
   "outputs": [],
   "source": []
  }
 ],
 "metadata": {
  "kernelspec": {
   "display_name": "Python 3",
   "language": "python",
   "name": "python3"
  },
  "language_info": {
   "codemirror_mode": {
    "name": "ipython",
    "version": 3
   },
   "file_extension": ".py",
   "mimetype": "text/x-python",
   "name": "python",
   "nbconvert_exporter": "python",
   "pygments_lexer": "ipython3",
   "version": "3.8.3"
  }
 },
 "nbformat": 4,
 "nbformat_minor": 4
}
