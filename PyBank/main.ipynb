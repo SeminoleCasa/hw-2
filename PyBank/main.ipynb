{
 "cells": [
  {
   "cell_type": "code",
   "execution_count": 31,
   "metadata": {},
   "outputs": [
    {
     "name": "stdout",
     "output_type": "stream",
     "text": [
      "Financial Analysis\n",
      "----------------------------\n",
      "Total Months: 86\n",
      "Total: $38382578\n",
      "Average  Change: $-2315.1176470588234\n",
      "Greatest Increase in Profits: Feb-2012 ($1926159)\n",
      "Greatest Decrease in Profits: Sep-2013 ($-2196167)\n"
     ]
    }
   ],
   "source": [
    "# Import libraries\n",
    "import csv\n",
    "from pathlib import Path\n",
    "\n",
    "# Name of the file (cannot access data)\n",
    "filename = Path('Resources/budget_data.csv')\n",
    "\n",
    "# Initialize variables\n",
    "number_of_months = 0\n",
    "total_profit = 0\n",
    "average_change = 0\n",
    "previous_profit = None\n",
    "greatest_increase_in_profit = 0\n",
    "greatest_increase_in_profit_month = \"\"\n",
    "greatest_decrease_in_profit = 0\n",
    "greatest_decrease_in_profit_month = \"\"\n",
    "# Open file\n",
    "with open(filename, 'r') as file:\n",
    "\n",
    "    # Read header\n",
    "    filereader = csv.reader(file, delimiter=',')\n",
    "    header = next(filereader)\n",
    "    \n",
    "    # Iterate through data\n",
    "    for row in filereader:\n",
    "        \n",
    "        # Get data\n",
    "        month = row[0]\n",
    "        monthly_profit = int(row[1])\n",
    "        \n",
    "        # Count number of months\n",
    "        number_of_months = number_of_months + 1\n",
    "        \n",
    "        # Count profit\n",
    "        total_profit = total_profit + monthly_profit\n",
    "        \n",
    "        # Calculate average profit change\n",
    "        if previous_profit is None:\n",
    "            monthly_change = 0\n",
    "            previous_profit = monthly_profit\n",
    "        else:\n",
    "            monthly_change = monthly_profit - previous_profit\n",
    "            previous_profit = monthly_profit\n",
    "        \n",
    "        average_change = average_change + monthly_change\n",
    "        \n",
    "        # Calculate greatest increase in profits\n",
    "        if monthly_change > greatest_increase_in_profit:\n",
    "            greatest_increase_in_profit = monthly_change\n",
    "            greatest_increase_in_profit_month = month\n",
    "        \n",
    "        # Calculate greatest decrease in profits\n",
    "        if monthly_change < greatest_decrease_in_profit:\n",
    "            greatest_decrease_in_profit = monthly_change\n",
    "            greatest_decrease_in_profit_month = month\n",
    "            \n",
    "\n",
    "# Calculate average\n",
    "average_change = average_change / ((number_of_months) - (1))\n",
    "        \n",
    "print(\"Financial Analysis\")\n",
    "print(\"----------------------------\")\n",
    "print(f\"Total Months: {number_of_months}\")\n",
    "print(f\"Total: ${total_profit}\")\n",
    "print(f\"Average  Change: ${average_change}\")\n",
    "print(f\"Greatest Increase in Profits: {greatest_increase_in_profit_month} (${greatest_increase_in_profit})\")\n",
    "print(f\"Greatest Decrease in Profits: {greatest_decrease_in_profit_month} (${greatest_decrease_in_profit})\")\n"
   ]
  },
  {
   "cell_type": "code",
   "execution_count": null,
   "metadata": {},
   "outputs": [],
   "source": []
  },
  {
   "cell_type": "code",
   "execution_count": null,
   "metadata": {},
   "outputs": [],
   "source": []
  }
 ],
 "metadata": {
  "kernelspec": {
   "display_name": "Python 3",
   "language": "python",
   "name": "python3"
  },
  "language_info": {
   "codemirror_mode": {
    "name": "ipython",
    "version": 3
   },
   "file_extension": ".py",
   "mimetype": "text/x-python",
   "name": "python",
   "nbconvert_exporter": "python",
   "pygments_lexer": "ipython3",
   "version": "3.8.3"
  }
 },
 "nbformat": 4,
 "nbformat_minor": 4
}
